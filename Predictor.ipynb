{
 "cells": [
  {
   "cell_type": "code",
   "execution_count": 2,
   "metadata": {},
   "outputs": [
    {
     "name": "stdout",
     "output_type": "stream",
     "text": [
      "Requirement already satisfied: PyEMD in c:\\users\\user\\desktop\\folders\\sit stuff\\year 3\\ml\\opopopopopopop\\ptb\\.venv\\lib\\site-packages (1.0.0)\n",
      "Requirement already satisfied: numpy>=1.9.0 in c:\\users\\user\\desktop\\folders\\sit stuff\\year 3\\ml\\opopopopopopop\\ptb\\.venv\\lib\\site-packages (from PyEMD) (2.0.2)\n",
      "Note: you may need to restart the kernel to use updated packages.\n",
      "Requirement already satisfied: EMD-signal in c:\\users\\user\\desktop\\folders\\sit stuff\\year 3\\ml\\opopopopopopop\\ptb\\.venv\\lib\\site-packages (1.6.4)\n",
      "Requirement already satisfied: numpy>=1.12 in c:\\users\\user\\desktop\\folders\\sit stuff\\year 3\\ml\\opopopopopopop\\ptb\\.venv\\lib\\site-packages (from EMD-signal) (2.0.2)\n",
      "Requirement already satisfied: scipy>=0.19 in c:\\users\\user\\desktop\\folders\\sit stuff\\year 3\\ml\\opopopopopopop\\ptb\\.venv\\lib\\site-packages (from EMD-signal) (1.15.2)\n",
      "Requirement already satisfied: pathos>=0.2.1 in c:\\users\\user\\desktop\\folders\\sit stuff\\year 3\\ml\\opopopopopopop\\ptb\\.venv\\lib\\site-packages (from EMD-signal) (0.3.3)\n",
      "Requirement already satisfied: tqdm<5.0,>=4.64.0 in c:\\users\\user\\desktop\\folders\\sit stuff\\year 3\\ml\\opopopopopopop\\ptb\\.venv\\lib\\site-packages (from EMD-signal) (4.67.1)\n",
      "Requirement already satisfied: ppft>=1.7.6.9 in c:\\users\\user\\desktop\\folders\\sit stuff\\year 3\\ml\\opopopopopopop\\ptb\\.venv\\lib\\site-packages (from pathos>=0.2.1->EMD-signal) (1.7.6.9)\n",
      "Requirement already satisfied: dill>=0.3.9 in c:\\users\\user\\desktop\\folders\\sit stuff\\year 3\\ml\\opopopopopopop\\ptb\\.venv\\lib\\site-packages (from pathos>=0.2.1->EMD-signal) (0.3.9)\n",
      "Requirement already satisfied: pox>=0.3.5 in c:\\users\\user\\desktop\\folders\\sit stuff\\year 3\\ml\\opopopopopopop\\ptb\\.venv\\lib\\site-packages (from pathos>=0.2.1->EMD-signal) (0.3.5)\n",
      "Requirement already satisfied: multiprocess>=0.70.17 in c:\\users\\user\\desktop\\folders\\sit stuff\\year 3\\ml\\opopopopopopop\\ptb\\.venv\\lib\\site-packages (from pathos>=0.2.1->EMD-signal) (0.70.17)\n",
      "Requirement already satisfied: colorama in c:\\users\\user\\desktop\\folders\\sit stuff\\year 3\\ml\\opopopopopopop\\ptb\\.venv\\lib\\site-packages (from tqdm<5.0,>=4.64.0->EMD-signal) (0.4.6)\n",
      "Note: you may need to restart the kernel to use updated packages.\n"
     ]
    }
   ],
   "source": [
    "%pip install PyEMD\n",
    "%pip install EMD-signal"
   ]
  },
  {
   "cell_type": "code",
   "execution_count": 1,
   "metadata": {},
   "outputs": [
    {
     "ename": "ModuleNotFoundError",
     "evalue": "No module named 'PyEMD'",
     "output_type": "error",
     "traceback": [
      "\u001b[1;31m---------------------------------------------------------------------------\u001b[0m",
      "\u001b[1;31mModuleNotFoundError\u001b[0m                       Traceback (most recent call last)",
      "Cell \u001b[1;32mIn[1], line 12\u001b[0m\n\u001b[0;32m     10\u001b[0m \u001b[38;5;28;01mimport\u001b[39;00m\u001b[38;5;250m \u001b[39m\u001b[38;5;21;01mmath\u001b[39;00m\n\u001b[0;32m     11\u001b[0m \u001b[38;5;28;01mfrom\u001b[39;00m\u001b[38;5;250m \u001b[39m\u001b[38;5;21;01mmath\u001b[39;00m\u001b[38;5;250m \u001b[39m\u001b[38;5;28;01mimport\u001b[39;00m \u001b[38;5;241m*\u001b[39m\n\u001b[1;32m---> 12\u001b[0m \u001b[38;5;28;01mfrom\u001b[39;00m\u001b[38;5;250m \u001b[39m\u001b[38;5;21;01mPyEMD\u001b[39;00m\u001b[38;5;250m \u001b[39m\u001b[38;5;28;01mimport\u001b[39;00m EMD\n\u001b[0;32m     13\u001b[0m \u001b[38;5;66;03m# from PyEMD.CEEMDAN import CEEMDAN\u001b[39;00m\n\u001b[0;32m     14\u001b[0m \u001b[38;5;28;01mfrom\u001b[39;00m\u001b[38;5;250m \u001b[39m\u001b[38;5;21;01mnumpy\u001b[39;00m\u001b[38;5;250m \u001b[39m\u001b[38;5;28;01mimport\u001b[39;00m \u001b[38;5;241m*\u001b[39m\n",
      "\u001b[1;31mModuleNotFoundError\u001b[0m: No module named 'PyEMD'"
     ]
    }
   ],
   "source": [
    "import matplotlib as plt\n",
    "from matplotlib import pyplot\n",
    "import numpy as np\n",
    "import pandas as pd\n",
    "import scipy as sp\n",
    "import seaborn as sns\n",
    "import os\n",
    "import pywt\n",
    "from scipy import signal\n",
    "import math\n",
    "from math import *\n",
    "from PyEMD import EMD\n",
    "# from PyEMD.CEEMDAN import CEEMDAN\n",
    "from numpy import *\n",
    "import sys\n",
    "from biosppy.signals import ecg\n",
    "import statistics\n",
    "\n",
    "import warnings\n",
    "warnings.simplefilter(action='ignore', category=FutureWarning)\n",
    "\n",
    "import wden\n",
    "import baseline\n",
    "\n",
    "from sklearn.metrics import classification_report\n",
    "\n",
    "from keras.models import load_model"
   ]
  },
  {
   "cell_type": "code",
   "execution_count": null,
   "metadata": {},
   "outputs": [
    {
     "name": "stdout",
     "output_type": "stream",
     "text": [
      "Model loaded\n"
     ]
    }
   ],
   "source": [
    "# Load model\n",
    "#model = load_model('Models/best_model.08-0.17.h5')\n",
    "# model = load_model('LSTM_Models/best_model.09-0.19.h5')\n",
    "model = load_model('Models/best_model.01-0.67.h5')\n",
    "print('Model loaded')"
   ]
  },
  {
   "cell_type": "code",
   "execution_count": 9,
   "metadata": {},
   "outputs": [],
   "source": [
    "# Load target dataset\n",
    "data = pd.read_csv(\"PTB/record001_001_Myocardial Infarction.csv\", header = 0)"
   ]
  },
  {
   "cell_type": "code",
   "execution_count": null,
   "metadata": {},
   "outputs": [],
   "source": [
    "# Process data to be similar to input training data\n",
    "signal_array = []\n",
    "file_array = []\n",
    "for column in data:\n",
    "    if column != 'vx' and column != 'vy' and column != 'vz':\n",
    "        df = data[column]\n",
    "        arrays = np.array(df)\n",
    "        arrays = baseline.baseline_corr(arrays)\n",
    "        peak = signal.argrelmax(arrays, order = 450)\n",
    "        start = peak[0][2] - 200\n",
    "        end = peak[0][2] + 400\n",
    "        arrays = arrays[start:end]\n",
    "        arrays = wden.wdenoise(arrays, 'sqtwolog', 'soft', 'mln', 4, 'sym7')\n",
    "        arrays = signal.resample(arrays, 150)\n",
    "        file_array.append(arrays)\n",
    "\n",
    "signal_array.append(file_array)\n",
    "signal_array = np.asarray(signal_array).reshape(-1, 150, 12)\n",
    "\n",
    "print ('Input Loaded')"
   ]
  },
  {
   "cell_type": "code",
   "execution_count": 14,
   "metadata": {},
   "outputs": [
    {
     "name": "stdout",
     "output_type": "stream",
     "text": [
      "Input Loaded\n",
      "39\n"
     ]
    }
   ],
   "source": [
    "# Process data to be similar to input training data\n",
    "signal_array = []\n",
    "file_array = []\n",
    "\n",
    "#data = baseline.baseline_corr(data)\n",
    "#data = wden.wdenoise(data, 'sqtwolog', 'soft', 'mln', 4, 'sym7')\n",
    "df = np.array(data['v4'])\n",
    "    \n",
    "peaks = ecg.christov_segmenter(df, 250)[0]\n",
    "for peak in range (1, len(peaks) - 1):\n",
    "    segment_array = []\n",
    "    for column in data:\n",
    "        df = np.array(data[column])\n",
    "        segment = df[peaks[peak]-50:peaks[peak]+100]\n",
    "        segment_array.append(segment)  \n",
    "    signal_array.append(segment_array)\n",
    "\n",
    "signal_array = np.asarray(signal_array).reshape(-1, 150, 12)\n",
    "\n",
    "print ('Input Loaded')\n",
    "print (signal_array.shape[0])"
   ]
  },
  {
   "cell_type": "code",
   "execution_count": 5,
   "metadata": {},
   "outputs": [],
   "source": [
    "# Transform data into 12 sections\n",
    "input1 = signal_array[:, :, 0].reshape(signal_array.shape[0], signal_array.shape[1], 1)\n",
    "input2 = signal_array[:, :, 1].reshape(signal_array.shape[0], signal_array.shape[1], 1)\n",
    "input3 = signal_array[:, :, 2].reshape(signal_array.shape[0], signal_array.shape[1], 1)\n",
    "input4 = signal_array[:, :, 3].reshape(signal_array.shape[0], signal_array.shape[1], 1)\n",
    "input5 = signal_array[:, :, 4].reshape(signal_array.shape[0], signal_array.shape[1], 1)\n",
    "input6 = signal_array[:, :, 5].reshape(signal_array.shape[0], signal_array.shape[1], 1)\n",
    "input7 = signal_array[:, :, 6].reshape(signal_array.shape[0], signal_array.shape[1], 1)\n",
    "input8 = signal_array[:, :, 7].reshape(signal_array.shape[0], signal_array.shape[1], 1)\n",
    "input9 = signal_array[:, :, 8].reshape(signal_array.shape[0], signal_array.shape[1], 1)\n",
    "input10 = signal_array[:, :, 9].reshape(signal_array.shape[0], signal_array.shape[1], 1)\n",
    "input11 = signal_array[:, :, 10].reshape(signal_array.shape[0], signal_array.shape[1], 1)\n",
    "input12 = signal_array[:, :, 11].reshape(signal_array.shape[0], signal_array.shape[1], 1)"
   ]
  },
  {
   "cell_type": "code",
   "execution_count": 6,
   "metadata": {},
   "outputs": [
    {
     "name": "stdout",
     "output_type": "stream",
     "text": [
      "1/1 [==============================] - 1s 694ms/step\n",
      "Healthy\n"
     ]
    }
   ],
   "source": [
    "# Predictor\n",
    "y_pred_test = model.predict([input1, input2, input3, input4, input5, input6, input7, input8, input9, input10, input11, input12], verbose = 1)\n",
    "# Take the class with the highest probability from the test predictions\n",
    "prediction = np.argmax(y_pred_test, axis=1)\n",
    "\n",
    "labels = ['Healthy', 'Myocardial Infarction']\n",
    "\n",
    "print (labels[int(prediction)])"
   ]
  },
  {
   "cell_type": "code",
   "execution_count": 28,
   "metadata": {},
   "outputs": [
    {
     "name": "stdout",
     "output_type": "stream",
     "text": [
      "1/1 [==============================] - 0s 94ms/step\n",
      "1/1 [==============================] - 0s 81ms/step\n",
      "1/1 [==============================] - 0s 76ms/step\n",
      "1/1 [==============================] - 0s 36ms/step\n",
      "1/1 [==============================] - 0s 74ms/step\n",
      "1/1 [==============================] - 0s 92ms/step\n",
      "1/1 [==============================] - 0s 90ms/step\n",
      "1/1 [==============================] - 0s 66ms/step\n",
      "1/1 [==============================] - 0s 66ms/step\n",
      "1/1 [==============================] - 0s 80ms/step\n",
      "1/1 [==============================] - 0s 100ms/step\n",
      "1/1 [==============================] - 0s 89ms/step\n",
      "1/1 [==============================] - 0s 96ms/step\n",
      "1/1 [==============================] - 0s 61ms/step\n",
      "1/1 [==============================] - 0s 57ms/step\n",
      "1/1 [==============================] - 0s 57ms/step\n",
      "1/1 [==============================] - 0s 94ms/step\n",
      "1/1 [==============================] - 0s 56ms/step\n",
      "1/1 [==============================] - 0s 82ms/step\n",
      "1/1 [==============================] - 0s 87ms/step\n",
      "1/1 [==============================] - 0s 67ms/step\n",
      "1/1 [==============================] - 0s 60ms/step\n",
      "1/1 [==============================] - 0s 89ms/step\n",
      "1/1 [==============================] - 0s 65ms/step\n",
      "1/1 [==============================] - 0s 67ms/step\n",
      "1/1 [==============================] - 0s 84ms/step\n",
      "1/1 [==============================] - 0s 71ms/step\n",
      "1/1 [==============================] - 0s 98ms/step\n",
      "1/1 [==============================] - 0s 89ms/step\n",
      "1/1 [==============================] - 0s 97ms/step\n",
      "1/1 [==============================] - 0s 115ms/step\n",
      "1/1 [==============================] - 0s 60ms/step\n",
      "1/1 [==============================] - 0s 34ms/step\n",
      "1/1 [==============================] - 0s 82ms/step\n",
      "1/1 [==============================] - 0s 82ms/step\n",
      "1/1 [==============================] - 0s 81ms/step\n",
      "1/1 [==============================] - 0s 95ms/step\n",
      "1/1 [==============================] - 0s 88ms/step\n",
      "1/1 [==============================] - 0s 101ms/step\n",
      "Myocardial Infarction\n"
     ]
    }
   ],
   "source": [
    "predictions = []\n",
    "for i in range (signal_array.shape[0]):\n",
    "    input1 = signal_array[i, :, 0].reshape(1, signal_array.shape[1], 1)\n",
    "    input2 = signal_array[i, :, 1].reshape(1, signal_array.shape[1], 1)\n",
    "    input3 = signal_array[i, :, 2].reshape(1, signal_array.shape[1], 1)\n",
    "    input4 = signal_array[i, :, 3].reshape(1, signal_array.shape[1], 1)\n",
    "    input5 = signal_array[i, :, 4].reshape(1, signal_array.shape[1], 1)\n",
    "    input6 = signal_array[i, :, 5].reshape(1, signal_array.shape[1], 1)\n",
    "    input7 = signal_array[i, :, 6].reshape(1, signal_array.shape[1], 1)\n",
    "    input8 = signal_array[i, :, 7].reshape(1, signal_array.shape[1], 1)\n",
    "    input9 = signal_array[i, :, 8].reshape(1, signal_array.shape[1], 1)\n",
    "    input10 = signal_array[i, :, 9].reshape(1, signal_array.shape[1], 1)\n",
    "    input11 = signal_array[i, :, 10].reshape(1, signal_array.shape[1], 1)\n",
    "    input12 = signal_array[i, :, 11].reshape(1, signal_array.shape[1], 1)\n",
    "    \n",
    "    # Predictor\n",
    "    y_pred_test = model.predict([input1, input2, input3, input4, input5, input6, input7, input8, input9, input10, input11, input12], verbose = 1)\n",
    "    # Take the class with the highest probability from the test predictions\n",
    "    prediction = np.argmax(y_pred_test, axis=1)\n",
    "    \n",
    "    labels = ['Healthy', 'Myocardial Infarction']\n",
    "    predictions.append(labels[int(prediction)])\n",
    "    #print (labels[int(prediction)])\n",
    "    \n",
    "\n",
    "final_prediction = statistics.mode(predictions) \n",
    "print (final_prediction)"
   ]
  },
  {
   "cell_type": "code",
   "execution_count": 11,
   "metadata": {},
   "outputs": [
    {
     "name": "stdout",
     "output_type": "stream",
     "text": [
      "(1, 150, 12)\n"
     ]
    }
   ],
   "source": [
    "print (signal_array.shape)"
   ]
  },
  {
   "cell_type": "code",
   "execution_count": null,
   "metadata": {},
   "outputs": [],
   "source": []
  }
 ],
 "metadata": {
  "kernelspec": {
   "display_name": ".venv",
   "language": "python",
   "name": "python3"
  },
  "language_info": {
   "codemirror_mode": {
    "name": "ipython",
    "version": 3
   },
   "file_extension": ".py",
   "mimetype": "text/x-python",
   "name": "python",
   "nbconvert_exporter": "python",
   "pygments_lexer": "ipython3",
   "version": "3.10.0"
  }
 },
 "nbformat": 4,
 "nbformat_minor": 2
}
