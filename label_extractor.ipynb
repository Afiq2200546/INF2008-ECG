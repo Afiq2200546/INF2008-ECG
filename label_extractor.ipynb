{
 "cells": [
  {
   "cell_type": "markdown",
   "metadata": {},
   "source": [
    "Import Dependencies\n",
    "\n",
    "Imports os, csv, and Counter from collections for file handling and counting labels."
   ]
  },
  {
   "cell_type": "code",
   "execution_count": 5,
   "metadata": {},
   "outputs": [],
   "source": [
    "import os\n",
    "import csv\n",
    "from collections import Counter"
   ]
  },
  {
   "cell_type": "markdown",
   "metadata": {},
   "source": [
    "Extract Label from Header File\n",
    "\n",
    "Defines a function extract_label() to read a .hea file and extract the reason for admission."
   ]
  },
  {
   "cell_type": "code",
   "execution_count": 6,
   "metadata": {},
   "outputs": [],
   "source": [
    "# Function to extract reason for admission from the header file\n",
    "def extract_label(header_file):\n",
    "    \"\"\"Extracts the reason for admission from the header file.\"\"\"\n",
    "    with open(header_file, 'r') as file:\n",
    "        for line in file:\n",
    "            if line.startswith(\"# Reason for admission:\"):\n",
    "                return line.split(\":\", 1)[1].strip()\n",
    "    return \"Unknown\""
   ]
  },
  {
   "cell_type": "markdown",
   "metadata": {},
   "source": [
    "Process PTB Directory\n",
    "\n",
    "Defines process_ptb_directory() to loop through patient folders, extract labels from .hea files, and write them to a CSV file if they meet certain conditions."
   ]
  },
  {
   "cell_type": "code",
   "execution_count": 7,
   "metadata": {},
   "outputs": [],
   "source": [
    "# Function to process PTB directory and extract labels\n",
    "def process_ptb_directory(ptb_dir, output_file):\n",
    "    \"\"\"Loops through all patient folders in ptb and extracts labels.\"\"\"\n",
    "    diagnosis_counts = Counter()\n",
    "    all_data = []\n",
    "\n",
    "    for patient_folder in os.listdir(ptb_dir):\n",
    "        patient_path = os.path.join(ptb_dir, patient_folder)\n",
    "        if os.path.isdir(patient_path):\n",
    "            for file in os.listdir(patient_path):\n",
    "                if file.endswith(\".hea\"):\n",
    "                    header_path = os.path.join(patient_path, file)\n",
    "                    reason = extract_label(header_path)\n",
    "                    all_data.append((patient_folder, os.path.splitext(file)[0], reason))\n",
    "                    diagnosis_counts[reason] += 1\n",
    "\n",
    "    with open(output_file, mode='w', newline='') as csv_file:\n",
    "        writer = csv.writer(csv_file)\n",
    "        writer.writerow([\"patient\", \"header file\", \"diagnosis\"])\n",
    "\n",
    "        for patient, header, reason in all_data:\n",
    "            if diagnosis_counts[reason] > 2 and reason.lower() != \"n/a\":\n",
    "                writer.writerow([patient, header, reason])"
   ]
  },
  {
   "cell_type": "code",
   "execution_count": 8,
   "metadata": {},
   "outputs": [
    {
     "name": "stdout",
     "output_type": "stream",
     "text": [
      "Labels extracted and saved to new_labels.csv\n"
     ]
    }
   ],
   "source": [
    "# Run the script in a Jupyter cell\n",
    "ptb_directory = \"ptb-diagnostic-ecg-database-1.0.0\" \n",
    "output_csv = \"new_labels.csv\" \n",
    "process_ptb_directory(ptb_directory, output_csv)\n",
    "print(f\"Labels extracted and saved to {output_csv}\")"
   ]
  }
 ],
 "metadata": {
  "kernelspec": {
   "display_name": ".venv",
   "language": "python",
   "name": "python3"
  },
  "language_info": {
   "codemirror_mode": {
    "name": "ipython",
    "version": 3
   },
   "file_extension": ".py",
   "mimetype": "text/x-python",
   "name": "python",
   "nbconvert_exporter": "python",
   "pygments_lexer": "ipython3",
   "version": "3.10.11"
  }
 },
 "nbformat": 4,
 "nbformat_minor": 2
}
