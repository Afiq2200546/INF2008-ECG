{
 "cells": [
  {
   "cell_type": "code",
   "execution_count": 2,
   "metadata": {},
   "outputs": [
    {
     "name": "stdout",
     "output_type": "stream",
     "text": [
      "Collecting PyWavelets\n",
      "  Using cached pywavelets-1.8.0-cp310-cp310-win_amd64.whl.metadata (9.0 kB)\n",
      "Collecting numpy<3,>=1.23 (from PyWavelets)\n",
      "  Using cached numpy-2.2.3-cp310-cp310-win_amd64.whl.metadata (60 kB)\n",
      "Using cached pywavelets-1.8.0-cp310-cp310-win_amd64.whl (4.2 MB)\n",
      "Using cached numpy-2.2.3-cp310-cp310-win_amd64.whl (12.9 MB)\n",
      "Installing collected packages: numpy, PyWavelets\n",
      "Successfully installed PyWavelets-1.8.0 numpy-2.2.3\n",
      "Note: you may need to restart the kernel to use updated packages.\n",
      "Collecting pandas\n",
      "  Using cached pandas-2.2.3-cp310-cp310-win_amd64.whl.metadata (19 kB)\n",
      "Requirement already satisfied: numpy>=1.22.4 in c:\\users\\user\\desktop\\folders\\sit stuff\\year 3\\ml\\opopopopopopop\\ptb\\.venv\\lib\\site-packages (from pandas) (2.2.3)\n",
      "Requirement already satisfied: python-dateutil>=2.8.2 in c:\\users\\user\\desktop\\folders\\sit stuff\\year 3\\ml\\opopopopopopop\\ptb\\.venv\\lib\\site-packages (from pandas) (2.9.0.post0)\n",
      "Collecting pytz>=2020.1 (from pandas)\n",
      "  Using cached pytz-2025.1-py2.py3-none-any.whl.metadata (22 kB)\n",
      "Collecting tzdata>=2022.7 (from pandas)\n",
      "  Using cached tzdata-2025.1-py2.py3-none-any.whl.metadata (1.4 kB)\n",
      "Requirement already satisfied: six>=1.5 in c:\\users\\user\\desktop\\folders\\sit stuff\\year 3\\ml\\opopopopopopop\\ptb\\.venv\\lib\\site-packages (from python-dateutil>=2.8.2->pandas) (1.17.0)\n",
      "Using cached pandas-2.2.3-cp310-cp310-win_amd64.whl (11.6 MB)\n",
      "Using cached pytz-2025.1-py2.py3-none-any.whl (507 kB)\n",
      "Using cached tzdata-2025.1-py2.py3-none-any.whl (346 kB)\n",
      "Installing collected packages: pytz, tzdata, pandas\n",
      "Successfully installed pandas-2.2.3 pytz-2025.1 tzdata-2025.1\n",
      "Note: you may need to restart the kernel to use updated packages.\n",
      "Collecting scipy\n",
      "  Using cached scipy-1.15.2-cp310-cp310-win_amd64.whl.metadata (60 kB)\n",
      "Requirement already satisfied: numpy<2.5,>=1.23.5 in c:\\users\\user\\desktop\\folders\\sit stuff\\year 3\\ml\\opopopopopopop\\ptb\\.venv\\lib\\site-packages (from scipy) (2.2.3)\n",
      "Using cached scipy-1.15.2-cp310-cp310-win_amd64.whl (41.2 MB)\n",
      "Installing collected packages: scipy\n",
      "Successfully installed scipy-1.15.2\n",
      "Note: you may need to restart the kernel to use updated packages.\n"
     ]
    }
   ],
   "source": [
    "%pip install PyWavelets\n",
    "%pip install pandas\n",
    "%pip install scipy"
   ]
  },
  {
   "cell_type": "code",
   "execution_count": 3,
   "metadata": {
    "id": "bNn8Rzs_wlGa"
   },
   "outputs": [],
   "source": [
    "import pandas as pd\n",
    "import numpy as np\n",
    "import os\n",
    "import shutil\n",
    "import sys\n",
    "import time\n",
    "from scipy import signal\n",
    "import pywt"
   ]
  },
  {
   "cell_type": "code",
   "execution_count": 4,
   "metadata": {
    "id": "hPHJuMBCwlGc"
   },
   "outputs": [],
   "source": [
    "label = pd.read_csv(\"labels_original.csv\", header = 0, names = ('patient', 'diagonsis'))\n",
    "patient_array = np.array(label['patient'])\n",
    "diagonsis_array = np.array(label['diagonsis'])"
   ]
  },
  {
   "cell_type": "code",
   "execution_count": 6,
   "metadata": {
    "id": "ZwSgUWLewlGh"
   },
   "outputs": [],
   "source": [
    "def baseline_corr(array):\n",
    "    # Function for use in baseline removal\n",
    "    def wrcoef(X, coef_type, coef, wavename, level):\n",
    "        N = np.array(X).size\n",
    "        a, ds = coef[0], list(reversed(coef[1:]))\n",
    "\n",
    "        if coef_type =='a':\n",
    "            return pywt.upcoef('a', a, wavename, level=level)[:N]\n",
    "        elif coef_type == 'd':\n",
    "            return pywt.upcoef('d', ds[level-1], wavename, level=level)[:N]\n",
    "        else:\n",
    "            raise ValueError(\"Invalid coefficient type: {}\".format(coef_type))\n",
    "    #Baseline correction variables\n",
    "    wavename = 'db1'\n",
    "    #Baseline correction\n",
    "    coef = pywt.wavedec(array, wavename, level=10)\n",
    "    A10 = wrcoef(array, 'a', coef, wavename, 10)\n",
    "    D10 = wrcoef(array, 'd', coef, wavename, 10)\n",
    "    D9 = wrcoef(array, 'd', coef, wavename, 9)\n",
    "    D8 = wrcoef(array, 'd', coef, wavename, 8)\n",
    "    D7 = wrcoef(array, 'd', coef, wavename, 7)\n",
    "    D6 = wrcoef(array, 'd', coef, wavename, 6)\n",
    "    D5 = wrcoef(array, 'd', coef, wavename, 5)\n",
    "    D4 = wrcoef(array, 'd', coef, wavename, 4)\n",
    "    D3 = wrcoef(array, 'd', coef, wavename, 3)\n",
    "    D2 = wrcoef(array, 'd', coef, wavename, 2)\n",
    "    D1 = wrcoef(array, 'd', coef, wavename, 1)\n",
    "    array = D10 + D9 + D8 + D7 + D6 + D5 + D4 + D3 + D2 + D1\n",
    "    return array"
   ]
  },
  {
   "cell_type": "code",
   "execution_count": 7,
   "metadata": {},
   "outputs": [],
   "source": [
    "def wavelet_denoise(data, wavelet='sym7', level=4, mode='soft'): #Update\n",
    "    coeffs = pywt.wavedec(data, wavelet, level=level)\n",
    "    threshold = np.sqrt(2 * np.log(len(data))) * np.median(np.abs(coeffs[-level])) / 0.6745\n",
    "    coeffs[1:] = [pywt.threshold(c, threshold, mode=mode) for c in coeffs[1:]]\n",
    "    return pywt.waverec(coeffs, wavelet)"
   ]
  },
  {
   "cell_type": "code",
   "execution_count": 8,
   "metadata": {
    "id": "921R1QsgwlGe",
    "outputId": "afe6df32-b822-4ee1-a895-27abae48f2c2"
   },
   "outputs": [
    {
     "name": "stdout",
     "output_type": "stream",
     "text": [
      "094 loaded - 46.5% completed Took : 0.77 seconds: 0.49 seconds"
     ]
    },
    {
     "name": "stderr",
     "output_type": "stream",
     "text": [
      "c:\\Users\\user\\Desktop\\Folders\\SIT STUFF\\Year 3\\ML\\opopopopopopop\\PTB\\.venv\\lib\\site-packages\\pywt\\_thresholding.py:22: RuntimeWarning: invalid value encountered in divide\n",
      "  thresholded = (1 - value/magnitude)\n"
     ]
    },
    {
     "name": "stdout",
     "output_type": "stream",
     "text": [
      "294 loaded - 99.5% completed Took : 0.53 seconds 0.49 seconds\n",
      "Done: 448 signals processed and loaded\n"
     ]
    }
   ],
   "source": [
    "#Loop through each file in the database\n",
    "patient = []\n",
    "diagonsis = []\n",
    "original_file = []\n",
    "signal_num = 0\n",
    "if os.path.exists('PTB_processed'):\n",
    "    shutil.rmtree('PTB_processed')\n",
    "os.makedirs('PTB_processed')\n",
    "for i in range (len(patient_array)): #For each patient\n",
    "    if patient_array[i] < 10:\n",
    "        p_string = '00' + str(patient_array[i])\n",
    "    elif patient_array[i] < 100:\n",
    "        p_string = '0' + str(patient_array[i])\n",
    "    else:\n",
    "        p_string = str(patient_array[i])\n",
    "    #p_number = 'patient' + p_string\n",
    "    filepath = \"PTB_original/patient\" + p_string\n",
    "    if os.path.isdir(filepath) == True: #Check if patient folder exists\n",
    "         for filename in os.listdir(filepath): #For each file in patient, load file\n",
    "            start_time = time.time()\n",
    "            data = pd.read_csv(filepath + '/' + filename, header = 0, skiprows = 1, usecols = range(1,13), engine = 'python')\n",
    "            patient.append(i + 1)\n",
    "            original_file.append(filename)\n",
    "            diagonsis.append(diagonsis_array[i])\n",
    "            signal_num += 1\n",
    "            if signal_num < 10:\n",
    "                mod_signal = '00' + str(signal_num)\n",
    "            elif signal_num < 100:\n",
    "                mod_signal = '0' + str(signal_num)\n",
    "            else:\n",
    "                mod_signal = str(signal_num)\n",
    "            file_array = []\n",
    "            for column in data: # Processing\n",
    "                df = np.array(data[column])\n",
    "                df = baseline_corr(df)\n",
    "                df = wavelet_denoise(df) # Updated\n",
    "                df = df[0:30000]\n",
    "                df = signal.resample(df, 7500)\n",
    "                file_array.append(df)\n",
    "            newdata = pd.concat([pd.Series(file_array[0]),\n",
    "                                 pd.Series(file_array[1]),\n",
    "                                 pd.Series(file_array[2]),\n",
    "                                 pd.Series(file_array[3]),\n",
    "                                 pd.Series(file_array[4]),\n",
    "                                 pd.Series(file_array[5]),\n",
    "                                 pd.Series(file_array[6]),\n",
    "                                 pd.Series(file_array[7]),\n",
    "                                 pd.Series(file_array[8]),\n",
    "                                 pd.Series(file_array[9]),\n",
    "                                 pd.Series(file_array[10]),\n",
    "                                 pd.Series(file_array[11]),], axis = 1)\n",
    "            newdata.columns = ['i','ii','iii','avr','avl','avf','v1','v2','v3','v4','v5','v6']\n",
    "            newdata.to_csv('PTB_processed/record' + mod_signal + '_' + p_string + '_' + str(diagonsis_array[i]) + '.csv', index = False)\n",
    "    completion = (i / len(patient_array)) * 100\n",
    "    end_time = time.time()\n",
    "    elasped_time = round(end_time - start_time, 2)\n",
    "    sys.stdout.write('\\r' + p_string + ' loaded - ' + str(completion) + '% completed' + ' Took : '+ str(elasped_time) + ' seconds')\n",
    "\n",
    "\n",
    "label_df = pd.concat([pd.Series(patient), pd.Series(original_file), pd.Series(diagonsis)], axis = 1)\n",
    "label_df.columns = ['patient', 'original_file', 'diagonsis']\n",
    "label_df.to_csv('labels.csv')\n",
    "\n",
    "print('')\n",
    "print ('Done: ' + str(signal_num) + ' signals processed and loaded')"
   ]
  },
  {
   "cell_type": "code",
   "execution_count": 9,
   "metadata": {
    "id": "u3AC4dZMwlGi"
   },
   "outputs": [
    {
     "name": "stdout",
     "output_type": "stream",
     "text": [
      "c:\\Users\\user\\Desktop\\Folders\\SIT STUFF\\Year 3\\ML\\opopopopopopop\\PTB\\.venv\\Lib\\site-packages\n"
     ]
    },
    {
     "name": "stderr",
     "output_type": "stream",
     "text": [
      "C:\\Users\\user\\AppData\\Local\\Temp\\ipykernel_51584\\1870838042.py:1: DeprecationWarning: The distutils package is deprecated and slated for removal in Python 3.12. Use setuptools or check PEP 632 for potential alternatives\n",
      "  from distutils.sysconfig import get_python_lib\n",
      "C:\\Users\\user\\AppData\\Local\\Temp\\ipykernel_51584\\1870838042.py:1: DeprecationWarning: The distutils.sysconfig module is deprecated, use sysconfig instead\n",
      "  from distutils.sysconfig import get_python_lib\n"
     ]
    }
   ],
   "source": [
    "from distutils.sysconfig import get_python_lib\n",
    "print(get_python_lib())"
   ]
  }
 ],
 "metadata": {
  "colab": {
   "provenance": []
  },
  "kernelspec": {
   "display_name": ".venv",
   "language": "python",
   "name": "python3"
  },
  "language_info": {
   "codemirror_mode": {
    "name": "ipython",
    "version": 3
   },
   "file_extension": ".py",
   "mimetype": "text/x-python",
   "name": "python",
   "nbconvert_exporter": "python",
   "pygments_lexer": "ipython3",
   "version": "3.10.0"
  }
 },
 "nbformat": 4,
 "nbformat_minor": 0
}
